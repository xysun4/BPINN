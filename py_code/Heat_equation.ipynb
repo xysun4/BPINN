{
 "cells": [
  {
   "cell_type": "code",
   "execution_count": 10,
   "id": "475d6f58",
   "metadata": {},
   "outputs": [],
   "source": [
    "# Import necessary modules\n",
    "import numpy as np\n",
    "import tensorflow as tf\n",
    "import matplotlib.pyplot as plt\n",
    "from tqdm import tqdm\n",
    "import pandas as pd\n",
    "import seaborn as sns"
   ]
  },
  {
   "cell_type": "markdown",
   "id": "c6235d30",
   "metadata": {},
   "source": [
    "# Step 1: Generate Data"
   ]
  },
  {
   "cell_type": "code",
   "execution_count": 11,
   "id": "5d0a1615",
   "metadata": {},
   "outputs": [],
   "source": [
    "# Define constants for data generation\n",
    "N_m = 5000  # Number of measurements\n",
    "k = 0.5  # Decay constant\n",
    "L = np.pi  # Spatial domain bound\n",
    "T_end = 1  # Time domain bound\n",
    "noise_level = 0.01  # Noise level for observations\n",
    "N_sb = 128  # Number of boundary points in space\n",
    "N_tb = 128  # Number of boundary points in time\n",
    "N_int = int(100**2)  # Number of interior points\n",
    "\n",
    "# Function to calculate the exact solution\n",
    "def u_star(x, t):\n",
    "    return np.sin(x) * np.exp(-k * t)"
   ]
  },
  {
   "cell_type": "code",
   "execution_count": 12,
   "id": "3cafe819",
   "metadata": {},
   "outputs": [],
   "source": [
    "# Initialize random number generator\n",
    "rng = np.random.default_rng(seed=1)\n",
    "\n",
    "# Generate measurement points in space and time\n",
    "x_vals = rng.uniform(0, L, N_m)\n",
    "t_vals = rng.uniform(0, T_end, N_m)\n",
    "\n",
    "# Generate sensor points in space and time\n",
    "x_vals_sensor = rng.uniform(0, L, N_m)\n",
    "t_vals_sensor = rng.uniform(0, T_end, N_m)\n",
    "u_true = u_star(x_vals_sensor, t_vals_sensor) \n",
    "\n",
    "# Add noise to the true observations\n",
    "mea_sig = noise_level * np.std(u_true)\n",
    "y_obs_int = u_true + rng.normal(0, mea_sig, u_true.shape)\n",
    "\n",
    "# Generate boundary condition points when t = 0 and t = 1\n",
    "t_vals_tb = np.random.choice([0, T_end], N_tb, replace=True)\n",
    "x_vals_tb = rng.uniform(0, L, N_tb)\n",
    "u_vals_tb = u_star(x_vals_tb, t_vals_tb)\n",
    "\n",
    "# Generate boundary condition points when x = 0 or L\n",
    "t_vals_sb = rng.uniform(0, T_end, N_sb)\n",
    "x_vals_sb = np.random.choice([0, L], N_sb, replace=True)\n",
    "u_vals_sb = u_star(x_vals_sb, t_vals_sb)\n",
    "\n",
    "# Generate interior points\n",
    "x_vals_int = rng.uniform(0, L, N_int)\n",
    "t_vals_int = rng.uniform(0, T_end, N_int)\n",
    "\n",
    "# Generating the required data arrays\n",
    "d_tb = np.column_stack((x_vals_tb, t_vals_tb, u_vals_tb))\n",
    "d_sb = np.column_stack((x_vals_sb, t_vals_sb, u_vals_sb))\n",
    "data = np.column_stack((x_vals_sensor, t_vals_sensor, y_obs_int))\n",
    "inter = np.column_stack((x_vals_int, t_vals_int))\n"
   ]
  },
  {
   "cell_type": "markdown",
   "id": "77970964",
   "metadata": {},
   "source": [
    "## Import functions and classes from our scripts"
   ]
  },
  {
   "cell_type": "code",
   "execution_count": 13,
   "id": "0eeadf86",
   "metadata": {},
   "outputs": [],
   "source": [
    "from model import get_pred_nn\n",
    "from sparse_net_util import (\n",
    "    flatten, unflatten_trainable_variables, tf_flatten, sparse_weight\n",
    ")\n",
    "from train_network import train"
   ]
  },
  {
   "cell_type": "markdown",
   "id": "8622e345",
   "metadata": {},
   "source": [
    "# Step 2: Define Hyperparameters"
   ]
  },
  {
   "cell_type": "code",
   "execution_count": 18,
   "id": "48abcc2f",
   "metadata": {},
   "outputs": [],
   "source": [
    "\n",
    "N_M = data.shape[0]\n",
    "N_int = inter.shape[0]\n",
    "# uu, JJ_ratio, rho_0 and rho_1 are parameters used for tuning sparsity of the network\n",
    "# rho is prior for theta\n",
    "# alpha is control importance of pde term\n",
    "# sig_M2, sig_R2 and sig_B2 is to control relative weight on meansurement data, interior data and boundary data\n",
    "hps = {\n",
    "    'uu': 1.1,\n",
    "    'JJ_ratio': 0.02,  \n",
    "    'alpha': 1.0,\n",
    "    'rho_0': N_M,\n",
    "    'rho_1': 1,\n",
    "    'rho': 1,\n",
    "    'init_lr': 1e-10,\n",
    "    'delta_prob': 1.0,\n",
    "    'sig_M2': mea_sig**2,\n",
    "    'sig_R2': 1,\n",
    "    'sig_B2': 1\n",
    "}"
   ]
  },
  {
   "cell_type": "markdown",
   "id": "2965aa0b",
   "metadata": {},
   "source": [
    "# Step 3: Train the Model"
   ]
  },
  {
   "cell_type": "code",
   "execution_count": 19,
   "id": "759f35de",
   "metadata": {},
   "outputs": [
    {
     "name": "stderr",
     "output_type": "stream",
     "text": [
      "  0%|          | 3/400000 [00:00<4:56:28, 22.49it/s]"
     ]
    },
    {
     "name": "stdout",
     "output_type": "stream",
     "text": [
      "Starting training process...\n"
     ]
    },
    {
     "name": "stderr",
     "output_type": "stream",
     "text": [
      " 10%|█         | 40002/400000 [29:28<4:25:02, 22.64it/s]"
     ]
    },
    {
     "name": "stdout",
     "output_type": "stream",
     "text": [
      "Iteration 40000: Loss = -27576.267578125, Theta = 0.5189424196715717\n"
     ]
    },
    {
     "name": "stderr",
     "output_type": "stream",
     "text": [
      " 20%|██        | 80004/400000 [58:57<3:55:32, 22.64it/s]"
     ]
    },
    {
     "name": "stdout",
     "output_type": "stream",
     "text": [
      "Iteration 80000: Loss = -10312.08203125, Theta = 0.4852619631339776\n"
     ]
    },
    {
     "name": "stderr",
     "output_type": "stream",
     "text": [
      " 30%|███       | 120003/400000 [1:28:26<3:24:07, 22.86it/s]"
     ]
    },
    {
     "name": "stdout",
     "output_type": "stream",
     "text": [
      "Iteration 120000: Loss = -4030.96533203125, Theta = 0.5180247571026733\n"
     ]
    },
    {
     "name": "stderr",
     "output_type": "stream",
     "text": [
      " 40%|████      | 160002/400000 [1:57:44<2:56:56, 22.61it/s]"
     ]
    },
    {
     "name": "stdout",
     "output_type": "stream",
     "text": [
      "Iteration 160000: Loss = -3620.8603515625, Theta = 0.4936919667479012\n"
     ]
    },
    {
     "name": "stderr",
     "output_type": "stream",
     "text": [
      " 50%|█████     | 200004/400000 [2:27:13<2:26:36, 22.74it/s]"
     ]
    },
    {
     "name": "stdout",
     "output_type": "stream",
     "text": [
      "Iteration 200000: Loss = -4066.336669921875, Theta = 0.48306610900172303\n"
     ]
    },
    {
     "name": "stderr",
     "output_type": "stream",
     "text": [
      " 60%|██████    | 240003/400000 [2:56:40<1:57:43, 22.65it/s]"
     ]
    },
    {
     "name": "stdout",
     "output_type": "stream",
     "text": [
      "Iteration 240000: Loss = -3494.7119140625, Theta = 0.5140416789689382\n"
     ]
    },
    {
     "name": "stderr",
     "output_type": "stream",
     "text": [
      " 70%|███████   | 280002/400000 [3:26:05<1:28:16, 22.66it/s]"
     ]
    },
    {
     "name": "stdout",
     "output_type": "stream",
     "text": [
      "Iteration 280000: Loss = -4082.49365234375, Theta = 0.47024909924916025\n"
     ]
    },
    {
     "name": "stderr",
     "output_type": "stream",
     "text": [
      " 80%|████████  | 320004/400000 [3:55:29<58:26, 22.82it/s]  "
     ]
    },
    {
     "name": "stdout",
     "output_type": "stream",
     "text": [
      "Iteration 320000: Loss = -3699.037841796875, Theta = 0.48319598680275305\n"
     ]
    },
    {
     "name": "stderr",
     "output_type": "stream",
     "text": [
      " 90%|█████████ | 360003/400000 [4:24:50<29:16, 22.78it/s]"
     ]
    },
    {
     "name": "stdout",
     "output_type": "stream",
     "text": [
      "Iteration 360000: Loss = -5013.40576171875, Theta = 0.505364133288279\n"
     ]
    },
    {
     "name": "stderr",
     "output_type": "stream",
     "text": [
      "100%|██████████| 400000/400000 [4:54:09<00:00, 22.66it/s]\n"
     ]
    },
    {
     "name": "stdout",
     "output_type": "stream",
     "text": [
      "Iteration 400000: Loss = -8445.9482421875, Theta = 0.471992451060153\n",
      "Training completed.\n"
     ]
    }
   ],
   "source": [
    "iterations = 400000  # You can adjust the number of iteration\n",
    "print(\"Starting training process...\")\n",
    "Ws_list, theta_hist_keep, delta_list = train(iterations, hps, data, d_sb, d_tb, inter)\n",
    "print(\"Training completed.\")"
   ]
  },
  {
   "cell_type": "code",
   "execution_count": 36,
   "id": "dcf3ee46",
   "metadata": {},
   "outputs": [],
   "source": [
    "theta_hist_keep = np.array(theta_hist_keep)"
   ]
  },
  {
   "cell_type": "markdown",
   "id": "4fda3550",
   "metadata": {},
   "source": [
    "# Step 4: Analyze Result"
   ]
  },
  {
   "cell_type": "code",
   "execution_count": 20,
   "id": "cb1a0c6b",
   "metadata": {},
   "outputs": [
    {
     "data": {
      "text/plain": [
       "0.48882250327521654"
      ]
     },
     "execution_count": 20,
     "metadata": {},
     "output_type": "execute_result"
    }
   ],
   "source": [
    "np.mean(theta_hist_keep) "
   ]
  },
  {
   "cell_type": "code",
   "execution_count": 21,
   "id": "2070e31a",
   "metadata": {},
   "outputs": [
    {
     "data": {
      "text/plain": [
       "0.025098192558921095"
      ]
     },
     "execution_count": 21,
     "metadata": {},
     "output_type": "execute_result"
    }
   ],
   "source": [
    "np.std(theta_hist_keep) "
   ]
  },
  {
   "cell_type": "markdown",
   "id": "3e7baf21",
   "metadata": {},
   "source": [
    "## calculate mean and std for target distribution"
   ]
  },
  {
   "cell_type": "code",
   "execution_count": 37,
   "id": "7532c49d",
   "metadata": {},
   "outputs": [],
   "source": [
    "k = 0.5\n",
    "def u_star(x, t):\n",
    "    return np.sin(x)*np.exp(-k*t)\n",
    "def du_dx_star(x,t):\n",
    "    return np.cos(x)*np.exp(-k*t)\n",
    "def d2u_dxx_star(x,t):\n",
    "    return -np.sin(x)*np.exp(-k*t)\n",
    "def du_dt_star(x,t):\n",
    "    return -k*np.sin(x)*np.exp(-k*t)\n",
    "\n",
    "from scipy.integrate import dblquad\n",
    "# Set the integration limits\n",
    "x_lower = 0\n",
    "x_upper = np.pi\n",
    "t_lower = 0\n",
    "t_upper = 1\n",
    "\n",
    "\n",
    "\n",
    "def fun_to_int(x,t):\n",
    "    return (d2u_dxx_star(x,t))**2 \n",
    "\n",
    "# Perform the double integral\n",
    "integral_result, _ = dblquad(fun_to_int, t_lower, t_upper, lambda t: x_lower, lambda t: x_upper)\n",
    "temp = (integral_result + (hps['sig_R2'])/(N_M**hps['alpha']))\n",
    "inv_temp = (1/(temp))\n",
    "Sig_star = ((hps['sig_R2'])/(N_M**hps['alpha'])) * inv_temp\n"
   ]
  },
  {
   "cell_type": "code",
   "execution_count": 38,
   "id": "1b6095f9",
   "metadata": {},
   "outputs": [],
   "source": [
    "theta_target_star = rng.normal(k, np.sqrt(Sig_star), len(theta_hist_keep))"
   ]
  },
  {
   "cell_type": "code",
   "execution_count": 39,
   "id": "1b7b0acb",
   "metadata": {
    "scrolled": true
   },
   "outputs": [
    {
     "data": {
      "text/plain": [
       "array([0.49846329, 0.49003444, 0.51609326, ..., 0.4967145 , 0.4931076 ,\n",
       "       0.49011786])"
      ]
     },
     "execution_count": 39,
     "metadata": {},
     "output_type": "execute_result"
    }
   ],
   "source": [
    "theta_target_star"
   ]
  },
  {
   "cell_type": "markdown",
   "id": "f47c7e96",
   "metadata": {},
   "source": [
    "## RMSE and $W_2$"
   ]
  },
  {
   "cell_type": "code",
   "execution_count": 41,
   "id": "daec5004",
   "metadata": {},
   "outputs": [
    {
     "data": {
      "text/plain": [
       "0.0002479730305295602"
      ]
     },
     "execution_count": 41,
     "metadata": {},
     "output_type": "execute_result"
    }
   ],
   "source": [
    "import ot\n",
    "ot.wasserstein_1d(theta_hist_keep, theta_target_star, p=2) "
   ]
  },
  {
   "cell_type": "code",
   "execution_count": 43,
   "id": "bdfec509",
   "metadata": {},
   "outputs": [
    {
     "data": {
      "text/plain": [
       "0.0007548557027572286"
      ]
     },
     "execution_count": 43,
     "metadata": {},
     "output_type": "execute_result"
    }
   ],
   "source": [
    "np.mean((theta_hist_keep-k)**2) "
   ]
  },
  {
   "cell_type": "markdown",
   "id": "b266189c",
   "metadata": {},
   "source": [
    "## Upper and lower bound for TVD"
   ]
  },
  {
   "cell_type": "code",
   "execution_count": 45,
   "id": "0d4ac0c0",
   "metadata": {},
   "outputs": [],
   "source": [
    "def tvd_upper_bound(mean0, mean1, std0, std1):\n",
    "    \"\"\"\n",
    "    Calculate the upper bound for the total variation distance (TVD) using Pinsker's inequality\n",
    "    between two normal distributions.\n",
    "    \n",
    "    Parameters:\n",
    "    mean0 (float): Mean of the first normal distribution.\n",
    "    std0 (float): Standard deviation of the first normal distribution.\n",
    "    mean1 (float): Mean of the second normal distribution.\n",
    "    std1 (float): Standard deviation of the second normal distribution.\n",
    "    \n",
    "    Returns:\n",
    "    float: The upper bound for the TVD.\n",
    "    \"\"\"\n",
    "    # Calculate KL divergence N0 || N1\n",
    "    kl_01 = np.log(std1 / std0) + (std0**2 + (mean0 - mean1)**2) / (2 * std1**2) - 0.5\n",
    "    \n",
    "    # Calculate KL divergence N1 || N0\n",
    "    kl_10 = np.log(std0 / std1) + (std1**2 + (mean1 - mean0)**2) / (2 * std0**2) - 0.5\n",
    "    \n",
    "    # Use the minimum KL divergence for Pinsker's inequality\n",
    "    min_kl = min(kl_01, kl_10)\n",
    "    \n",
    "    # Calculate the upper bound for TVD using Pinsker's inequality\n",
    "    out = np.sqrt(0.5 * min_kl)\n",
    "    \n",
    "    return min(1, out)\n",
    "\n",
    "def tvd_lower_bound(mean0, mean1, std0, std1):\n",
    "    \"\"\"\n",
    "    Calculate the lower bound for the total variation distance (TVD) using the Hellinger distance\n",
    "    between two normal distributions.\n",
    "    \n",
    "    Parameters:\n",
    "    mean0 (float): Mean of the first normal distribution.\n",
    "    std0 (float): Standard deviation of the first normal distribution.\n",
    "    mean1 (float): Mean of the second normal distribution.\n",
    "    std1 (float): Standard deviation of the second normal distribution.\n",
    "    \n",
    "    Returns:\n",
    "    float: The lower bound for the TVD.\n",
    "    \"\"\"\n",
    "    # Calculate the Hellinger distance squared\n",
    "    term1 = np.sqrt(2 * std0 * std1 / (std0**2 + std1**2))\n",
    "    term2 = np.exp(-(mean0 - mean1)**2 / (4 * (std0**2 + std1**2)))\n",
    "    h_squared = 1 - term1 * term2\n",
    "\n",
    "    return h_squared\n",
    "\n",
    "def tvd_upper_Hell(mean0, mean1, std0, std1):\n",
    "    \"\"\"\n",
    "    Calculate the lower and upper bounds for the total variation distance (TVD) using the Hellinger distance\n",
    "    between two normal distributions.\n",
    "    \n",
    "    Parameters:\n",
    "    mean0 (float): Mean of the first normal distribution.\n",
    "    std0 (float): Standard deviation of the first normal distribution.\n",
    "    mean1 (float): Mean of the second normal distribution.\n",
    "    std1 (float): Standard deviation of the second normal distribution.\n",
    "    \n",
    "    Returns:\n",
    "    tuple: A tuple containing the lower bound and the upper bound for the TVD.\n",
    "    \"\"\"\n",
    "    # Calculate the Hellinger distance squared\n",
    "    term1 = np.sqrt(2 * std0 * std1 / (std0**2 + std1**2))\n",
    "    term2 = np.exp(-(mean0 - mean1)**2 / (4 * (std0**2 + std1**2)))\n",
    "    h_squared = 1 - term1 * term2\n",
    "\n",
    "    # Hellinger distance\n",
    "    h_distance = np.sqrt(h_squared)\n",
    "    out = np.sqrt(2) * h_distance\n",
    "    \n",
    "    return out\n"
   ]
  },
  {
   "cell_type": "code",
   "execution_count": 46,
   "id": "520a2585",
   "metadata": {},
   "outputs": [],
   "source": [
    "mu_theta = np.mean(theta_hist_keep) \n",
    "std_theta = np.std(theta_hist_keep) "
   ]
  },
  {
   "cell_type": "code",
   "execution_count": 47,
   "id": "47cdc4ca",
   "metadata": {},
   "outputs": [
    {
     "data": {
      "text/plain": [
       "0.4057144773609908"
      ]
     },
     "execution_count": 47,
     "metadata": {},
     "output_type": "execute_result"
    }
   ],
   "source": [
    "tvd_upper_bound(mu_theta, k, std_theta, np.sqrt(Sig_star))"
   ]
  },
  {
   "cell_type": "code",
   "execution_count": 48,
   "id": "5914b698",
   "metadata": {},
   "outputs": [
    {
     "data": {
      "text/plain": [
       "0.1084516542013445"
      ]
     },
     "execution_count": 48,
     "metadata": {},
     "output_type": "execute_result"
    }
   ],
   "source": [
    "tvd_lower_bound(mu_theta, k, std_theta, np.sqrt(Sig_star))"
   ]
  },
  {
   "cell_type": "code",
   "execution_count": 49,
   "id": "f0eeeef2",
   "metadata": {},
   "outputs": [
    {
     "data": {
      "text/plain": [
       "0.4657287927567814"
      ]
     },
     "execution_count": 49,
     "metadata": {},
     "output_type": "execute_result"
    }
   ],
   "source": [
    "# this is upper bound with Hellinger which usually larger than the one from KL\n",
    "tvd_upper_Hell(mu_theta, k, std_theta, np.sqrt(Sig_star)) "
   ]
  },
  {
   "cell_type": "code",
   "execution_count": null,
   "id": "4ea4558e",
   "metadata": {},
   "outputs": [],
   "source": []
  }
 ],
 "metadata": {
  "kernelspec": {
   "display_name": "Python 3",
   "language": "python",
   "name": "python3"
  },
  "language_info": {
   "codemirror_mode": {
    "name": "ipython",
    "version": 3
   },
   "file_extension": ".py",
   "mimetype": "text/x-python",
   "name": "python",
   "nbconvert_exporter": "python",
   "pygments_lexer": "ipython3",
   "version": "3.8.10"
  }
 },
 "nbformat": 4,
 "nbformat_minor": 5
}
